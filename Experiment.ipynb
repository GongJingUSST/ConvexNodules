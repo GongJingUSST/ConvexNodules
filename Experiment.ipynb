{
 "cells": [
  {
   "cell_type": "code",
   "execution_count": 1,
   "metadata": {
    "collapsed": false
   },
   "outputs": [],
   "source": [
    "from support.datatools import *\n",
    "from support.paths import *"
   ]
  },
  {
   "cell_type": "code",
   "execution_count": 2,
   "metadata": {
    "collapsed": true
   },
   "outputs": [],
   "source": [
    "TEST_FOLD = str(2)\n",
    "VALID_FOLD = str(3)\n",
    "SHIFT = 2\n",
    "OVERSAMPLING = .7\n",
    "UNDERSAMPLING = 8\n",
    "LOWER = -1000\n",
    "UPPER = 400\n",
    "IN_SHAPE = [(18, 20, 20, 1), \n",
    "            (36, 20, 42, 1), \n",
    "            (36, 42, 20, 1)]\n",
    "\n",
    "STRIDES = [(1, 2, 2), \n",
    "           (2, 1, 2), \n",
    "           (2, 2, 1)]\n",
    "\n",
    "CPU = 6"
   ]
  },
  {
   "cell_type": "code",
   "execution_count": null,
   "metadata": {
    "collapsed": false
   },
   "outputs": [],
   "source": [
    "train, valid, test = extract_paths(VALID_FOLD, TEST_FOLD)"
   ]
  },
  {
   "cell_type": "code",
   "execution_count": null,
   "metadata": {
    "collapsed": true
   },
   "outputs": [],
   "source": []
  }
 ],
 "metadata": {
  "anaconda-cloud": {},
  "kernelspec": {
   "display_name": "Python [Root]",
   "language": "python",
   "name": "Python [Root]"
  },
  "language_info": {
   "codemirror_mode": {
    "name": "ipython",
    "version": 3
   },
   "file_extension": ".py",
   "mimetype": "text/x-python",
   "name": "python",
   "nbconvert_exporter": "python",
   "pygments_lexer": "ipython3",
   "version": "3.5.2"
  }
 },
 "nbformat": 4,
 "nbformat_minor": 0
}
