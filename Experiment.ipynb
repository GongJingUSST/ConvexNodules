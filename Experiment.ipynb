{
 "cells": [
  {
   "cell_type": "code",
   "execution_count": 7,
   "metadata": {
    "collapsed": false,
    "scrolled": true
   },
   "outputs": [
    {
     "name": "stdout",
     "output_type": "stream",
     "text": [
      "Populating the interactive namespace from numpy and matplotlib\n",
      "The autoreload extension is already loaded. To reload it, use:\n",
      "  %reload_ext autoreload\n"
     ]
    },
    {
     "name": "stderr",
     "output_type": "stream",
     "text": [
      "WARNING: pylab import has clobbered these variables: ['test']\n",
      "`%matplotlib` prevents importing * from pylab and numpy\n"
     ]
    }
   ],
   "source": [
    "from support.datatools import *\n",
    "from support.paths import *\n",
    "from objectives.logist import *\n",
    "%pylab inline\n",
    "%load_ext autoreload\n",
    "%autoreload 1\n",
    "%aimport support.datatools"
   ]
  },
  {
   "cell_type": "code",
   "execution_count": 3,
   "metadata": {
    "collapsed": true
   },
   "outputs": [],
   "source": [
    "TEST_FOLD = str(2)\n",
    "VALID_FOLD = str(3)\n",
    "SHIFT = 2\n",
    "BATCH_SIZE = 32\n",
    "NB_EPOCH = 20\n",
    "OVERSAMPLING = .7\n",
    "UNDERSAMPLING = 8\n",
    "LOWER = -1000\n",
    "UPPER = 400\n",
    "IN_SHAPE = (1, 22, 22)\n",
    "CPU = 6"
   ]
  },
  {
   "cell_type": "code",
   "execution_count": 8,
   "metadata": {
    "collapsed": false
   },
   "outputs": [],
   "source": [
    "# train, valid, test = extract_paths(VALID_FOLD, TEST_FOLD)\n",
    "train_generator = batch_generator(train,\n",
    "                                  batch_size=BATCH_SIZE, \n",
    "                                  in_shape=IN_SHAPE,\n",
    "                                  lower=LOWER,\n",
    "                                  upper=UPPER,\n",
    "                                  shift=SHIFT,\n",
    "                                  undersampling=UNDERSAMPLING,\n",
    "                                  oversampling=OVERSAMPLING,\n",
    "                                  CPU=CPU)\n",
    "\n",
    "valid_generator = batch_generator(valid,\n",
    "                                  batch_size=BATCH_SIZE, \n",
    "                                  in_shape=IN_SHAPE,\n",
    "                                  lower=LOWER,\n",
    "                                  upper=UPPER,\n",
    "                                  shift=0, \n",
    "                                  undersampling=0,\n",
    "                                  oversampling=1,\n",
    "                                  CPU=CPU)"
   ]
  },
  {
   "cell_type": "code",
   "execution_count": 9,
   "metadata": {
    "collapsed": false
   },
   "outputs": [],
   "source": [
    "class LR:\n",
    "    def __init__(self, lr=1, dimensions=484,\n",
    "                 l1=1e-4, l2=1e-4, \n",
    "                 num_iter=1000, verbose=0):\n",
    "        \n",
    "        self.l1 = l1\n",
    "        self.l2 = l2\n",
    "        self.lr = lr\n",
    "        self.verbose = verbose\n",
    "        self.num_iter = num_iter\n",
    "        self.w = np.random.randn(dimensions)\n",
    "        self.w = clip(self.w, -3, 3)\n",
    "\n",
    "    def fit_generator(self, train_generator, \n",
    "                      iterations, nb_epoch, \n",
    "#                       validation_data, \n",
    "#                       nb_val_samples\n",
    "                     ):\n",
    "        \"\"\"\n",
    "        Обучение логистической регрессии.\n",
    "        Настраивает self.w коэффициенты модели.\n",
    "        Если self.verbose == True, то выводите значение \n",
    "        функции потерь на итерациях метода оптимизации. \n",
    "        :param X: numpy.array размера  (N, M), dtype = np.float\n",
    "        :param y: numpy.array размера  (N,), dtype = np.int\n",
    "        :return: self\n",
    "        \"\"\"\n",
    "        for epoch in range(nb_epoch):\n",
    "            for i in range(iterations):\n",
    "                X, y = next(train_generator)\n",
    "                X = X.reshape(X.shape[0], -1)\n",
    "                n, d = X.shape\n",
    "                w_new = self.w - self.lr * gradf(self.w, X, y, self.l1, self.l2)\n",
    "                if self.verbose != 0:\n",
    "                    print(\"Iteration \" + str(i) + \". Current loss is \" + str(lossf(self.w, X, y, self.l1, self.l2)))\n",
    "                self.w = w_new\n",
    "        return self\n",
    "\n",
    "    def predict_proba(self, X):\n",
    "        \"\"\"\n",
    "        Предсказание вероятности принадлежности объекта к классу 1.\n",
    "        Возвращает np.array размера (N,) чисел в отрезке от 0 до 1.\n",
    "        :param X: numpy.array размера  (N, M), dtype = np.float\n",
    "        :return: numpy.array размера  (N,), dtype = np.int\n",
    "        \"\"\"\n",
    "        return special.expit(np.matmul(X, self.w))\n",
    "\n",
    "    def predict(self, X):\n",
    "        \"\"\"\n",
    "        Предсказание класса для объекта.\n",
    "        Возвращает np.array размера (N,) элементов 1 или -1.\n",
    "        :param X: numpy.array размера  (N, M), dtype = np.float\n",
    "        :return:  numpy.array размера  (N,), dtype = np.int\n",
    "        \"\"\"\n",
    "        predicts = (self.predict_proba(X) > .5) * 2 - 1\n",
    "        return predicts "
   ]
  },
  {
   "cell_type": "code",
   "execution_count": 12,
   "metadata": {
    "collapsed": false
   },
   "outputs": [],
   "source": [
    "clf = LR(verbose=1)"
   ]
  },
  {
   "cell_type": "code",
   "execution_count": 13,
   "metadata": {
    "collapsed": false
   },
   "outputs": [
    {
     "name": "stdout",
     "output_type": "stream",
     "text": [
      "Iteration 0. Current loss is 0.0909766743763\n",
      "Iteration 1. Current loss is 0.0909455189351\n",
      "Iteration 2. Current loss is 0.120848960841\n",
      "Iteration 0. Current loss is 0.0909611912642\n",
      "Iteration 1. Current loss is 0.186210991664\n",
      "Iteration 2. Current loss is 0.0919694722251\n"
     ]
    },
    {
     "data": {
      "text/plain": [
       "<__main__.LR at 0x7f69d2975160>"
      ]
     },
     "execution_count": 13,
     "metadata": {},
     "output_type": "execute_result"
    }
   ],
   "source": [
    "clf.fit_generator(train_generator, 3, 2)"
   ]
  },
  {
   "cell_type": "code",
   "execution_count": null,
   "metadata": {
    "collapsed": true
   },
   "outputs": [],
   "source": []
  }
 ],
 "metadata": {
  "anaconda-cloud": {},
  "kernelspec": {
   "display_name": "Python [Root]",
   "language": "python",
   "name": "Python [Root]"
  },
  "language_info": {
   "codemirror_mode": {
    "name": "ipython",
    "version": 3
   },
   "file_extension": ".py",
   "mimetype": "text/x-python",
   "name": "python",
   "nbconvert_exporter": "python",
   "pygments_lexer": "ipython3",
   "version": "3.5.2"
  }
 },
 "nbformat": 4,
 "nbformat_minor": 0
}
